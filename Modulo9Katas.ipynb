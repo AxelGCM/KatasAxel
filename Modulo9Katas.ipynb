{
 "cells": [
  {
   "cell_type": "markdown",
   "metadata": {},
   "source": [
    "Ejercicio 1: Trabajar con argumentos en funciones"
   ]
  },
  {
   "cell_type": "code",
   "execution_count": 6,
   "metadata": {},
   "outputs": [
    {
     "name": "stdout",
     "output_type": "stream",
     "text": [
      "Datos de promedio:\n",
      "            Promedio total: 78.33333333333333%\n",
      "            Tanque uno: 80%\n",
      "            Tanque dos: 70%\n",
      "            Tanque tres: 85%\n"
     ]
    }
   ],
   "source": [
    "# Función promedio \n",
    "def promedio(tanques):\n",
    "    suma = sum(tanques)\n",
    "    numTanques = len(tanques)\n",
    "    return suma/numTanques\n",
    "# Función para leer 3 tanques de combustible y muestre el promedio\n",
    "def reporte_tanques(tanque1, tanque2, tanque3):\n",
    "    return f\"\"\"Datos de promedio:\n",
    "            Promedio total: {promedio([tanque1,tanque2,tanque3])}%\n",
    "            Tanque uno: {tanque1}%\n",
    "            Tanque dos: {tanque2}%\n",
    "            Tanque tres: {tanque3}%\"\"\"\n",
    "# Llamamos a la función que genera el reporte print(funcion(tanque1, tanque2, tanque3))\n",
    "print(reporte_tanques(80, 70, 85))\n",
    "\n",
    "\n",
    "\n",
    "    "
   ]
  },
  {
   "cell_type": "markdown",
   "metadata": {},
   "source": [
    "Ejercicio 2: Trabajo con argumentos de palabra clave"
   ]
  },
  {
   "cell_type": "code",
   "execution_count": 8,
   "metadata": {},
   "outputs": [
    {
     "name": "stdout",
     "output_type": "stream",
     "text": [
      "\n",
      "    Destino: Moon\n",
      "    Tiempo total de viaje: 65 minutos\n",
      "    Total de capacidad de tanques: 500000 gallones\n",
      "    \n"
     ]
    }
   ],
   "source": [
    "# Función con un informe preciso de la misión. Considera hora de prelanzamiento, \n",
    "# tiempo de vuelo, destino, tanque externo y tanque interno\n",
    "def informe_preciso(hora_desplazamiento, tiempo_vuelo, destino, tanque_externo, tanque_interno):\n",
    "    return f\"\"\"\n",
    "    Destino: {destino}\n",
    "    Tiempo total de viaje: {hora_desplazamiento+ tiempo_vuelo} minutos\n",
    "    Total de capacidad de tanques: {tanque_externo + tanque_interno} gallones\n",
    "    \"\"\"\n",
    "print(informe_preciso(14, 51, \"Moon\", 200000, 300000))"
   ]
  },
  {
   "cell_type": "code",
   "execution_count": 20,
   "metadata": {},
   "outputs": [
    {
     "name": "stdout",
     "output_type": "stream",
     "text": [
      "\n",
      "    Destino: Moon\n",
      "    Tiempo total de viaje: 76 minutos\n",
      "    Total de capacidad de tanques: 500000 gallones\n",
      "    \n"
     ]
    }
   ],
   "source": [
    "# Escribe tu nueva función de reporte considerando lo anterior\n",
    "def informe_preciso(destino, *minutes, **fuel_reservoirs):\n",
    "    return f\"\"\"\n",
    "    Destino: {destino}\n",
    "    Tiempo total de viaje: {sum(minutes)} minutos\n",
    "    Total de capacidad de tanques: {sum(fuel_reservoirs.values())} gallones\n",
    "    \"\"\"\n",
    "\n",
    "print(informe_preciso(\"Moon\", 10, 15, 51, main=300000, external=200000))"
   ]
  },
  {
   "cell_type": "code",
   "execution_count": 27,
   "metadata": {},
   "outputs": [
    {
     "name": "stdout",
     "output_type": "stream",
     "text": [
      "\n",
      "    Destino: Moon\n",
      "    Tiempo total de viaje: 76 minutos\n",
      "    Total de capacidad de tanques: 500000 gallones\n",
      "    Tanques:\n",
      "    main: corresponde 300000 gallones\n",
      "    external: corresponde 200000 gallones\n"
     ]
    }
   ],
   "source": [
    "# Escribe tu nueva función\n",
    "def informe_preciso(destino, *minutes, **fuel_reservoirs):\n",
    "    report_info = f\"\"\"\n",
    "    Destino: {destino}\n",
    "    Tiempo total de viaje: {sum(minutes)} minutos\n",
    "    Total de capacidad de tanques: {sum(fuel_reservoirs.values())} gallones\n",
    "    Tanques:\"\"\"\n",
    "    for tanque, cantidad in fuel_reservoirs.items():\n",
    "        report_info += f\"\"\"\n",
    "    {tanque}: corresponde {cantidad} gallones\"\"\"\n",
    "    return report_info\n",
    "\n",
    "print(informe_preciso(\"Moon\", 10, 15, 51, main=300000, external=200000))"
   ]
  }
 ],
 "metadata": {
  "interpreter": {
   "hash": "31f2aee4e71d21fbe5cf8b01ff0e069b9275f58929596ceb00d14d90e3e16cd6"
  },
  "kernelspec": {
   "display_name": "Python 3.8.10 64-bit",
   "language": "python",
   "name": "python3"
  },
  "language_info": {
   "codemirror_mode": {
    "name": "ipython",
    "version": 3
   },
   "file_extension": ".py",
   "mimetype": "text/x-python",
   "name": "python",
   "nbconvert_exporter": "python",
   "pygments_lexer": "ipython3",
   "version": "3.8.10"
  },
  "orig_nbformat": 4
 },
 "nbformat": 4,
 "nbformat_minor": 2
}
