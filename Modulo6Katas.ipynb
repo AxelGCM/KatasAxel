{
 "cells": [
  {
   "cell_type": "markdown",
   "metadata": {},
   "source": [
    "Ejercicio1: Crear y usar listas de Python"
   ]
  },
  {
   "cell_type": "code",
   "execution_count": 14,
   "metadata": {},
   "outputs": [
    {
     "name": "stdout",
     "output_type": "stream",
     "text": [
      "Hay 8 planetas\n",
      "Pluton\n"
     ]
    }
   ],
   "source": [
    "# Creamos la lista planets y la mostramos\n",
    "planets = [\"Mercurio\",\"Venus\",\"Tierra\", \"Marte\", \"Jupiter\", \"Saturno\",\"Urano\",\"Neptuno\"]\n",
    "print(\"Hay \" + str(len(planets)) + \" planetas\")\n",
    "# Agregamos a plutón y mostramos el último elemento\n",
    "planets.append(\"Pluton\")\n",
    "print(planets[len(planets)-1])"
   ]
  },
  {
   "cell_type": "markdown",
   "metadata": {},
   "source": [
    "Ejercicio 2: Trabajando con datos de una lista"
   ]
  },
  {
   "cell_type": "code",
   "execution_count": 12,
   "metadata": {},
   "outputs": [
    {
     "name": "stdout",
     "output_type": "stream",
     "text": [
      "Posición planetaNeptune: 6\n",
      "Planetas antes de Neptune: ['Mercury', 'Venus', 'Earth', 'Mars', 'Jupiter', 'Saturn']\n",
      "Planetas despues de Neptune: []\n"
     ]
    }
   ],
   "source": [
    "# Lista de planetas\n",
    "planets = ['Mercury', 'Venus', 'Earth', 'Mars', 'Jupiter', 'Saturn', 'Neptune']\n",
    "# Solicitamos el nombre de un planeta *Pista:  input()*\n",
    "planet = input(\"Digite el nombre del plantea: \")\n",
    "# Busca el planeta en la lista\n",
    "ubicacionPlaneta = planets.index(planet)\n",
    "print(\"Posición planeta\" + planet + \": \"+str(ubicacionPlaneta))\n",
    "# Muestra los planetas más cercanos al sol\n",
    "planetsBefor = planets[0:ubicacionPlaneta]\n",
    "print(\"Planetas antes de \" + planet +\" y cerca del Sol: \" + str(planetsBefor))\n",
    "# Muestra los planetas más lejanos al sol\n",
    "planetsAfter= planets[ubicacionPlaneta + 1:]\n",
    "print(\"Planetas despues de \" + planet +\" y lejos del Sol: \" + str(planetsAfter))"
   ]
  }
 ],
 "metadata": {
  "interpreter": {
   "hash": "916dbcbb3f70747c44a77c7bcd40155683ae19c65e1c03b4aa3499c5328201f1"
  },
  "kernelspec": {
   "display_name": "Python 3.8.10 64-bit",
   "language": "python",
   "name": "python3"
  },
  "language_info": {
   "codemirror_mode": {
    "name": "ipython",
    "version": 3
   },
   "file_extension": ".py",
   "mimetype": "text/x-python",
   "name": "python",
   "nbconvert_exporter": "python",
   "pygments_lexer": "ipython3",
   "version": "3.8.10"
  },
  "orig_nbformat": 4
 },
 "nbformat": 4,
 "nbformat_minor": 2
}
